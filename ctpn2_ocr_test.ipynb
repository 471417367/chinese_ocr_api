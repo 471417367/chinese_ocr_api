{
 "cells": [
  {
   "cell_type": "code",
   "execution_count": 1,
   "metadata": {},
   "outputs": [
    {
     "name": "stdout",
     "output_type": "stream",
     "text": [
      "WARNING:tensorflow:\n",
      "The TensorFlow contrib module will not be included in TensorFlow 2.0.\n",
      "For more information, please see:\n",
      "  * https://github.com/tensorflow/community/blob/master/rfcs/20180907-contrib-sunset.md\n",
      "  * https://github.com/tensorflow/addons\n",
      "  * https://github.com/tensorflow/io (for I/O related ops)\n",
      "If you depend on functionality not listed there, please file an issue.\n",
      "\n",
      "/opt/CHINESE-OCR-API\n",
      "WARNING:tensorflow:From /opt/CHINESE-OCR-API/ctpn2/ctpn2.py:15: The name tf.Session is deprecated. Please use tf.compat.v1.Session instead.\n",
      "\n",
      "WARNING:tensorflow:From /opt/CHINESE-OCR-API/ctpn2/ctpn2.py:15: The name tf.ConfigProto is deprecated. Please use tf.compat.v1.ConfigProto instead.\n",
      "\n",
      "WARNING:tensorflow:From /opt/CHINESE-OCR-API/ctpn2/ctpn2.py:17: The name tf.placeholder is deprecated. Please use tf.compat.v1.placeholder instead.\n",
      "\n",
      "WARNING:tensorflow:From /opt/CHINESE-OCR-API/ctpn2/ctpn2.py:20: The name tf.get_variable is deprecated. Please use tf.compat.v1.get_variable instead.\n",
      "\n",
      "WARNING:tensorflow:From /opt/CHINESE-OCR-API/ctpn2/nets/vgg.py:16: The name tf.variable_scope is deprecated. Please use tf.compat.v1.variable_scope instead.\n",
      "\n",
      "WARNING:tensorflow:From /usr/local/lib/python3.6/dist-packages/tensorflow_core/contrib/layers/python/layers/layers.py:1057: Layer.apply (from tensorflow.python.keras.engine.base_layer) is deprecated and will be removed in a future version.\n",
      "Instructions for updating:\n",
      "Please use `layer.__call__` method instead.\n",
      "WARNING:tensorflow:From /opt/CHINESE-OCR-API/ctpn2/nets/model_train.py:30: LSTMCell.__init__ (from tensorflow.python.ops.rnn_cell_impl) is deprecated and will be removed in a future version.\n",
      "Instructions for updating:\n",
      "This class is equivalent as tf.keras.layers.LSTMCell, and will be replaced by that in Tensorflow 2.0.\n",
      "WARNING:tensorflow:From /opt/CHINESE-OCR-API/ctpn2/nets/model_train.py:33: bidirectional_dynamic_rnn (from tensorflow.python.ops.rnn) is deprecated and will be removed in a future version.\n",
      "Instructions for updating:\n",
      "Please use `keras.layers.Bidirectional(keras.layers.RNN(cell))`, which is equivalent to this API\n",
      "WARNING:tensorflow:From /usr/local/lib/python3.6/dist-packages/tensorflow_core/python/ops/rnn.py:464: dynamic_rnn (from tensorflow.python.ops.rnn) is deprecated and will be removed in a future version.\n",
      "Instructions for updating:\n",
      "Please use `keras.layers.RNN(cell)`, which is equivalent to this API\n",
      "WARNING:tensorflow:From /usr/local/lib/python3.6/dist-packages/tensorflow_core/python/ops/rnn_cell_impl.py:958: Layer.add_variable (from tensorflow.python.keras.engine.base_layer) is deprecated and will be removed in a future version.\n",
      "Instructions for updating:\n",
      "Please use `layer.add_weight` method instead.\n",
      "WARNING:tensorflow:From /usr/local/lib/python3.6/dist-packages/tensorflow_core/python/ops/rnn_cell_impl.py:962: calling Zeros.__init__ (from tensorflow.python.ops.init_ops) with dtype is deprecated and will be removed in a future version.\n",
      "Instructions for updating:\n",
      "Call initializer instance with the dtype argument instead of passing it to the constructor\n",
      "WARNING:tensorflow:From /opt/CHINESE-OCR-API/ctpn2/ctpn2.py:25: The name tf.train.Saver is deprecated. Please use tf.compat.v1.train.Saver instead.\n",
      "\n",
      "Restore from ctpn2/checkpoints_mlt/ctpn_50000.ckpt\n",
      "INFO:tensorflow:Restoring parameters from ctpn2/checkpoints_mlt/ctpn_50000.ckpt\n"
     ]
    }
   ],
   "source": [
    "from ctpn2.ctpn2 import CTPN_model2\n",
    "from PIL import Image\n",
    "import cv2\n",
    "import time\n",
    "from IPython.display import display\n",
    "from ocr.ocr import CrnnOcr\n",
    "import ocr.model_net as mn\n",
    "\n",
    "\n",
    "ctpnmodel = CTPN_model2('ctpn2/checkpoints_mlt/')\n",
    "\n",
    "crnn = CrnnOcr('ocr/model/model_acc97.pth')"
   ]
  },
  {
   "cell_type": "code",
   "execution_count": 13,
   "metadata": {},
   "outputs": [
    {
     "name": "stdout",
     "output_type": "stream",
     "text": [
      "cost time: 3.50s\n"
     ]
    },
    {
     "data": {
      "text/plain": [
       "array([[368, 698, 416, 698, 416, 712, 368, 712,   0],\n",
       "       [256, 629, 304, 629, 304, 643, 256, 643,   0],\n",
       "       [416, 554, 528, 554, 528, 570, 416, 570,   0],\n",
       "       [ 32, 549, 112, 549, 112, 562,  32, 562,   0],\n",
       "       [ 48, 317, 112, 317, 112, 332,  48, 332,   0],\n",
       "       [240, 602, 352, 602, 352, 617, 240, 617,   0],\n",
       "       [ 16, 350,  80, 350,  80, 370,  16, 370,   0],\n",
       "       [ 16, 785, 112, 785, 112, 800,  16, 800,   0],\n",
       "       [416, 780, 528, 780, 528, 799, 416, 799,   0],\n",
       "       [ 64, 126, 112, 126, 112, 141,  64, 141,   0],\n",
       "       [320, 736, 416, 736, 416, 752, 320, 752,   0],\n",
       "       [ 16, 757,  96, 757,  96, 770,  16, 770,   0],\n",
       "       [320, 692, 368, 692, 368, 707, 320, 707,   0],\n",
       "       [304, 196, 368, 196, 368, 210, 304, 210,   0],\n",
       "       [240, 395, 352, 395, 352, 409, 240, 409,   0],\n",
       "       [192, 758, 256, 758, 256, 771, 192, 771,   0],\n",
       "       [400, 309, 512, 309, 512, 325, 400, 325,   0],\n",
       "       [304, 659, 384, 659, 384, 673, 304, 673,   0],\n",
       "       [ 32, 421,  96, 421,  96, 434,  32, 434,   0],\n",
       "       [ 16, 767,  96, 767,  96, 782,  16, 782,   0],\n",
       "       [192, 768, 256, 768, 256, 783, 192, 783,   0],\n",
       "       [ 48, 249, 256, 249, 256, 268,  48, 268,   0],\n",
       "       [ 16, 736, 208, 736, 208, 751,  16, 751,   0],\n",
       "       [192,  49, 384,  49, 384,  71, 192,  71,   0]])"
      ]
     },
     "execution_count": 13,
     "metadata": {},
     "output_type": "execute_result"
    }
   ],
   "source": [
    "im = cv2.imread('test/1122.jpg')[:, :, ::-1]\n",
    "img, (rh, rw) = ctpnmodel.resize_image(im)\n",
    "\n",
    "boxes = ctpnmodel.predict(img)\n",
    "boxes"
   ]
  },
  {
   "cell_type": "code",
   "execution_count": 14,
   "metadata": {},
   "outputs": [
    {
     "name": "stdout",
     "output_type": "stream",
     "text": [
      "由金洲同\n"
     ]
    },
    {
     "data": {
      "image/png": "[encoded data removed]",
      "text/plain": [
       "<PIL.Image.Image image mode=RGB size=48x14 at 0x7FA0BC26D5C0>"
      ]
     },
     "metadata": {},
     "output_type": "display_data"
    },
    {
     "name": "stdout",
     "output_type": "stream",
     "text": [
      "，3092:\n"
     ]
    },
    {
     "data": {
      "image/png": "[encoded data removed]",
      "text/plain": [
       "<PIL.Image.Image image mode=RGB size=112x16 at 0x7FA0BC26D5C0>"
      ]
     },
     "metadata": {},
     "output_type": "display_data"
    },
    {
     "name": "stdout",
     "output_type": "stream",
     "text": [
      "发机心手用宗\n"
     ]
    },
    {
     "data": {
      "image/png": "[encoded data removed]",
      "text/plain": [
       "<PIL.Image.Image image mode=RGB size=80x13 at 0x7FA0BC26D6A0>"
      ]
     },
     "metadata": {},
     "output_type": "display_data"
    },
    {
     "name": "stdout",
     "output_type": "stream",
     "text": [
      "出生医学让明辱粮\n"
     ]
    },
    {
     "data": {
      "image/png": "[encoded data removed]",
      "text/plain": [
       "<PIL.Image.Image image mode=RGB size=112x15 at 0x7FA0BC26D550>"
      ]
     },
     "metadata": {},
     "output_type": "display_data"
    },
    {
     "name": "stdout",
     "output_type": "stream",
     "text": [
      "。怎签\n"
     ]
    },
    {
     "data": {
      "image/png": "[encoded data removed]",
      "text/plain": [
       "<PIL.Image.Image image mode=RGB size=64x20 at 0x7FA0BC26D630>"
      ]
     },
     "metadata": {},
     "output_type": "display_data"
    },
    {
     "name": "stdout",
     "output_type": "stream",
     "text": [
      "著龙取何专项宋\n"
     ]
    },
    {
     "data": {
      "image/png": "[encoded data removed]",
      "text/plain": [
       "<PIL.Image.Image image mode=RGB size=96x15 at 0x7FA0BC26D630>"
      ]
     },
     "metadata": {},
     "output_type": "display_data"
    },
    {
     "name": "stdout",
     "output_type": "stream",
     "text": [
      ".工---?0市\n"
     ]
    },
    {
     "data": {
      "image/png": "[encoded data removed]",
      "text/plain": [
       "<PIL.Image.Image image mode=RGB size=112x19 at 0x7FA0BC26D4E0>"
      ]
     },
     "metadata": {},
     "output_type": "display_data"
    },
    {
     "name": "stdout",
     "output_type": "stream",
     "text": [
      "育麒特证--。\n"
     ]
    },
    {
     "data": {
      "image/png": "[encoded data removed]",
      "text/plain": [
       "<PIL.Image.Image image mode=RGB size=96x16 at 0x7FA0BC26D630>"
      ]
     },
     "metadata": {},
     "output_type": "display_data"
    },
    {
     "name": "stdout",
     "output_type": "stream",
     "text": [
      "法注人出社\n"
     ]
    },
    {
     "data": {
      "image/png": "[encoded data removed]",
      "text/plain": [
       "<PIL.Image.Image image mode=RGB size=80x13 at 0x7FA0BC26D630>"
      ]
     },
     "metadata": {},
     "output_type": "display_data"
    },
    {
     "name": "stdout",
     "output_type": "stream",
     "text": [
      "布亚意”\n"
     ]
    },
    {
     "data": {
      "image/png": "[encoded data removed]",
      "text/plain": [
       "<PIL.Image.Image image mode=RGB size=64x14 at 0x7FA0BC26D5F8>"
      ]
     },
     "metadata": {},
     "output_type": "display_data"
    },
    {
     "name": "stdout",
     "output_type": "stream",
     "text": [
      "田华院学张项小顶\n"
     ]
    },
    {
     "data": {
      "image/png": "[encoded data removed]",
      "text/plain": [
       "<PIL.Image.Image image mode=RGB size=112x14 at 0x7FA0BC26D5F8>"
      ]
     },
     "metadata": {},
     "output_type": "display_data"
    },
    {
     "name": "stdout",
     "output_type": "stream",
     "text": [
      ".32503\n"
     ]
    },
    {
     "data": {
      "image/png": "[encoded data removed]",
      "text/plain": [
       "<PIL.Image.Image image mode=RGB size=112x16 at 0x7FA0BC26D5C0>"
      ]
     },
     "metadata": {},
     "output_type": "display_data"
    },
    {
     "name": "stdout",
     "output_type": "stream",
     "text": [
      "行瓶时那\n"
     ]
    },
    {
     "data": {
      "image/png": "[encoded data removed]",
      "text/plain": [
       "<PIL.Image.Image image mode=RGB size=80x14 at 0x7FA0BC26D4E0>"
      ]
     },
     "metadata": {},
     "output_type": "display_data"
    },
    {
     "name": "stdout",
     "output_type": "stream",
     "text": [
      "心拉名\n"
     ]
    },
    {
     "data": {
      "image/png": "[encoded data removed]",
      "text/plain": [
       "<PIL.Image.Image image mode=RGB size=64x13 at 0x7FA0BC26D4E0>"
      ]
     },
     "metadata": {},
     "output_type": "display_data"
    },
    {
     "name": "stdout",
     "output_type": "stream",
     "text": [
      "外导-法烈日\n"
     ]
    },
    {
     "data": {
      "image/png": "[encoded data removed]",
      "text/plain": [
       "<PIL.Image.Image image mode=RGB size=208x19 at 0x7FA0BC26D5F8>"
      ]
     },
     "metadata": {},
     "output_type": "display_data"
    },
    {
     "name": "stdout",
     "output_type": "stream",
     "text": [
      "有账章价辽作泰州原长。江\n"
     ]
    },
    {
     "data": {
      "image/png": "[encoded data removed]",
      "text/plain": [
       "<PIL.Image.Image image mode=RGB size=192x15 at 0x7FA0BC26D668>"
      ]
     },
     "metadata": {},
     "output_type": "display_data"
    },
    {
     "name": "stdout",
     "output_type": "stream",
     "text": [
      "出生医学证明\n"
     ]
    },
    {
     "data": {
      "image/png": "[encoded data removed]",
      "text/plain": [
       "<PIL.Image.Image image mode=RGB size=192x22 at 0x7FA0BC26D6A0>"
      ]
     },
     "metadata": {},
     "output_type": "display_data"
    },
    {
     "name": "stdout",
     "output_type": "stream",
     "text": [
      "3.182615041732788\n"
     ]
    },
    {
     "data": {
      "text/plain": [
       "'由金洲同，3092:发机心手用宗出生医学让明辱粮。怎签著龙取何专项宋.工---?0市育麒特证--。法注人出社布亚意”田华院学张项小顶.32503行瓶时那心拉名外导-法烈日有账章价辽作泰州原长。江出生医学证明'"
      ]
     },
     "execution_count": 14,
     "metadata": {},
     "output_type": "execute_result"
    }
   ],
   "source": [
    "textall = ''\n",
    "start = time.time()\n",
    "for rec in boxes:\n",
    "    xmin = min(rec[0], rec[6])\n",
    "    xmax = max(rec[2], rec[4]) \n",
    "    ymin = min(rec[1], rec[3]) \n",
    "    ymax = max(rec[7], rec[5]) \n",
    "    partImg = img[ymin:ymax, xmin:xmax]\n",
    "    image = Image.fromarray(partImg).convert('L')\n",
    "    scale = image.size[1] * 1.0 / 32\n",
    "    w = image.size[0] / scale\n",
    "    w = int(w)\n",
    "    transformer = mn.resizeNormalize((w, 32))\n",
    "    image = transformer(image).cpu()\n",
    "    \n",
    "    text = crnn.predict(image)\n",
    "    if len(text) > 2:\n",
    "        print(text)\n",
    "        textall = textall + text\n",
    "        display(Image.fromarray(partImg))\n",
    "print(time.time()-start)\n",
    "textall"
   ]
  },
  {
   "cell_type": "code",
   "execution_count": null,
   "metadata": {},
   "outputs": [],
   "source": [
    "import re\n",
    " \n",
    "str1 = re.sub('[a-zA-Z0-9’!\"#$%&\\'()*+-./:;<=>?@?★、…【】《》？“”‘’！[\\\\]^_`{|}~\\s]+', \"\", textall)\n",
    "\n",
    "print(str1[0:100])"
   ]
  },
  {
   "cell_type": "code",
   "execution_count": null,
   "metadata": {},
   "outputs": [],
   "source": []
  },
  {
   "cell_type": "code",
   "execution_count": null,
   "metadata": {},
   "outputs": [],
   "source": []
  },
  {
   "cell_type": "code",
   "execution_count": null,
   "metadata": {},
   "outputs": [],
   "source": []
  }
 ],
 "metadata": {
  "kernelspec": {
   "display_name": "Python 3",
   "language": "python",
   "name": "python3"
  },
  "language_info": {
   "codemirror_mode": {
    "name": "ipython",
    "version": 3
   },
   "file_extension": ".py",
   "mimetype": "text/x-python",
   "name": "python",
   "nbconvert_exporter": "python",
   "pygments_lexer": "ipython3",
   "version": "3.6.8"
  }
 },
 "nbformat": 4,
 "nbformat_minor": 2
}
